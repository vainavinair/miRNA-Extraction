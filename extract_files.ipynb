{
 "cells": [
  {
   "cell_type": "code",
   "execution_count": 11,
   "metadata": {},
   "outputs": [],
   "source": [
    "import pandas as pd\n",
    "import requests\n",
    "import os\n",
    "from tqdm.notebook import tqdm"
   ]
  },
  {
   "cell_type": "code",
   "execution_count": 12,
   "metadata": {},
   "outputs": [],
   "source": [
    "def download_mirna_files(excel_path):\n",
    "    # Read CSV file\n",
    "    df = pd.read_excel(excel_path)\n",
    "    \n",
    "    # Get miRNA values from column B\n",
    "    miRNAs = df['miRNA'].dropna().unique()  # Using unique() to avoid duplicate downloads\n",
    "    \n",
    "    # Create directory if it doesn't exist\n",
    "    os.makedirs('downloaded_files', exist_ok=True)\n",
    "    \n",
    "    # Download files with progress bar\n",
    "    for miRNA in tqdm(miRNAs, desc='Downloading files'):\n",
    "        try:\n",
    "            # Construct URL\n",
    "            url = f'https://rnasysu.com/encori/moduleDownload.php?source=agoClipRNA&type=xls&value=hg38;lncRNA;{miRNA};1;0;0;1;None;all'\n",
    "            \n",
    "            # Send request\n",
    "            response = requests.get(url)\n",
    "            response.raise_for_status()  # Check for HTTP errors\n",
    "            \n",
    "            # Save file\n",
    "            filename = f\"downloaded_files/{miRNA.replace('/', '_')}.xls\"  # Sanitize filename\n",
    "            with open(filename, 'wb') as f:\n",
    "                f.write(response.content)\n",
    "                \n",
    "        except Exception as e:\n",
    "            print(f\"Error downloading {miRNA}: {str(e)}\")\n"
   ]
  },
  {
   "cell_type": "code",
   "execution_count": 13,
   "metadata": {},
   "outputs": [
    {
     "data": {
      "application/vnd.jupyter.widget-view+json": {
       "model_id": "b76069bcd416401d9e6c609908c02db3",
       "version_major": 2,
       "version_minor": 0
      },
      "text/plain": [
       "Downloading files:   0%|          | 0/11 [00:00<?, ?it/s]"
      ]
     },
     "metadata": {},
     "output_type": "display_data"
    }
   ],
   "source": [
    "download_mirna_files('get_id.xlsx')"
   ]
  },
  {
   "cell_type": "code",
   "execution_count": null,
   "metadata": {},
   "outputs": [],
   "source": []
  }
 ],
 "metadata": {
  "kernelspec": {
   "display_name": "base",
   "language": "python",
   "name": "python3"
  },
  "language_info": {
   "codemirror_mode": {
    "name": "ipython",
    "version": 3
   },
   "file_extension": ".py",
   "mimetype": "text/x-python",
   "name": "python",
   "nbconvert_exporter": "python",
   "pygments_lexer": "ipython3",
   "version": "3.12.4"
  }
 },
 "nbformat": 4,
 "nbformat_minor": 2
}
